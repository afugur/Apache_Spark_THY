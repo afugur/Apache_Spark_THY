{
 "cells": [
  {
   "cell_type": "markdown",
   "metadata": {},
   "source": [
    "## THY 1.THY_DATA.txt veri setini kullanarak aşağıdaki görevleri yapınız."
   ]
  },
  {
   "cell_type": "markdown",
   "metadata": {},
   "source": [
    "# GÖREV 1: Veriyi Hazırlama\n",
    "\n",
    "### Adım 1: Başlangıç\n",
    "\n",
    "- Veriyi HDFS üzerinde datasets klasörü altına taşıyınız.\n",
    "- Gerekli Kütüphaneleri yükleyiniz.\n",
    "- Spark session oluşturunuz. Apache Spark'ı YARN modunda kullanınız.\n",
    "\n",
    "**Not:** Veriyi `inferSchema` **True** olacak sekilde okutunuz, ilgili csv dosyasına göre `delimiter` seçiniz."
   ]
  },
  {
   "cell_type": "markdown",
   "metadata": {},
   "source": [
    "## 1-) Veri setini Hadoop HDFS'e yükleyiniz."
   ]
  },
  {
   "cell_type": "markdown",
   "metadata": {},
   "source": [
    "! hdfs dfs -put ~/datasets/thy_data.txt /user/train/datasets"
   ]
  },
  {
   "cell_type": "code",
   "execution_count": 1,
   "metadata": {},
   "outputs": [
    {
     "name": "stdout",
     "output_type": "stream",
     "text": [
      "Found 6 items\r\n",
      "-rw-r--r--   1 train supergroup       4556 2020-09-23 20:56 /user/train/datasets/Advertising.csv\r\n",
      "drwxr-xr-x   - train supergroup          0 2020-11-19 21:02 /user/train/datasets/churn-telecom\r\n",
      "-rw-r--r--   1 train supergroup    2609524 2022-09-09 20:52 /user/train/datasets/dirty_store_transactions.csv\r\n",
      "-rw-r--r--   1 train supergroup    5099520 2022-08-16 00:25 /user/train/datasets/flo100k_data.csv\r\n",
      "drwxr-xr-x   - train supergroup          0 2020-11-21 11:16 /user/train/datasets/retail_db\r\n",
      "-rw-r--r--   1 train supergroup   32106333 2022-09-09 22:43 /user/train/datasets/thy_data.txt\r\n"
     ]
    }
   ],
   "source": [
    "! hdfs dfs -ls /user/train/datasets"
   ]
  },
  {
   "cell_type": "markdown",
   "metadata": {},
   "source": [
    "# GÖREV 2: İlk Bakış\n",
    "Veri setinin\n",
    "\n",
    "- İlk 5 gözlemini \n",
    "- Toplam gözlem sayısını\n",
    "- Toplam değişken sayısını\n",
    "- Değişken tiplerini inceleyiniz."
   ]
  },
  {
   "cell_type": "code",
   "execution_count": 2,
   "metadata": {},
   "outputs": [],
   "source": [
    "import findspark\n",
    "findspark.init(\"/opt/manual/spark\")\n",
    "\n",
    "from pyspark.sql import SparkSession, functions as F"
   ]
  },
  {
   "cell_type": "code",
   "execution_count": 3,
   "metadata": {},
   "outputs": [],
   "source": [
    "spark = (\n",
    "    SparkSession.builder\n",
    "    .appName(\"THY Analysis\")\n",
    "    .master(\"yarn\")\n",
    "    .enableHiveSupport()\n",
    "    .getOrCreate())"
   ]
  },
  {
   "cell_type": "code",
   "execution_count": 5,
   "metadata": {},
   "outputs": [],
   "source": [
    "df = spark.read.format(\"csv\") \\\n",
    ".option(\"header\", True) \\\n",
    ".option(\"inferSchema\", True) \\\n",
    ".option(\"sep\", \",\") \\\n",
    ".load(\"/user/train/datasets/thy_data.txt\")"
   ]
  },
  {
   "cell_type": "code",
   "execution_count": 6,
   "metadata": {},
   "outputs": [
    {
     "data": {
      "text/html": [
       "<div>\n",
       "<style scoped>\n",
       "    .dataframe tbody tr th:only-of-type {\n",
       "        vertical-align: middle;\n",
       "    }\n",
       "\n",
       "    .dataframe tbody tr th {\n",
       "        vertical-align: top;\n",
       "    }\n",
       "\n",
       "    .dataframe thead th {\n",
       "        text-align: right;\n",
       "    }\n",
       "</style>\n",
       "<table border=\"1\" class=\"dataframe\">\n",
       "  <thead>\n",
       "    <tr style=\"text-align: right;\">\n",
       "      <th></th>\n",
       "      <th>SEASON</th>\n",
       "      <th>ORIGIN</th>\n",
       "      <th>DESTINATION</th>\n",
       "      <th>PSGR_COUNT</th>\n",
       "    </tr>\n",
       "  </thead>\n",
       "  <tbody>\n",
       "    <tr>\n",
       "      <th>0</th>\n",
       "      <td>SUMMER</td>\n",
       "      <td>227</td>\n",
       "      <td>YYZ</td>\n",
       "      <td>6</td>\n",
       "    </tr>\n",
       "    <tr>\n",
       "      <th>1</th>\n",
       "      <td>SUMMER</td>\n",
       "      <td>224</td>\n",
       "      <td>222</td>\n",
       "      <td>3</td>\n",
       "    </tr>\n",
       "    <tr>\n",
       "      <th>2</th>\n",
       "      <td>SUMMER</td>\n",
       "      <td>226</td>\n",
       "      <td>JF8</td>\n",
       "      <td>1</td>\n",
       "    </tr>\n",
       "    <tr>\n",
       "      <th>3</th>\n",
       "      <td>SUMMER</td>\n",
       "      <td>227</td>\n",
       "      <td>3RG</td>\n",
       "      <td>11</td>\n",
       "    </tr>\n",
       "    <tr>\n",
       "      <th>4</th>\n",
       "      <td>SUMMER</td>\n",
       "      <td>227</td>\n",
       "      <td>6RV</td>\n",
       "      <td>245</td>\n",
       "    </tr>\n",
       "  </tbody>\n",
       "</table>\n",
       "</div>"
      ],
      "text/plain": [
       "   SEASON ORIGIN DESTINATION  PSGR_COUNT\n",
       "0  SUMMER    227         YYZ           6\n",
       "1  SUMMER    224         222           3\n",
       "2  SUMMER    226         JF8           1\n",
       "3  SUMMER    227         3RG          11\n",
       "4  SUMMER    227         6RV         245"
      ]
     },
     "execution_count": 6,
     "metadata": {},
     "output_type": "execute_result"
    }
   ],
   "source": [
    "df.limit(5).toPandas()"
   ]
  },
  {
   "cell_type": "code",
   "execution_count": 7,
   "metadata": {},
   "outputs": [
    {
     "data": {
      "text/plain": [
       "1719202"
      ]
     },
     "execution_count": 7,
     "metadata": {},
     "output_type": "execute_result"
    }
   ],
   "source": [
    "# Toplam gözlem sayısı\n",
    "df.count()"
   ]
  },
  {
   "cell_type": "code",
   "execution_count": 8,
   "metadata": {},
   "outputs": [
    {
     "data": {
      "text/plain": [
       "4"
      ]
     },
     "execution_count": 8,
     "metadata": {},
     "output_type": "execute_result"
    }
   ],
   "source": [
    "# Toplam değişken sayısı\n",
    "len(df.columns)"
   ]
  },
  {
   "cell_type": "code",
   "execution_count": 9,
   "metadata": {},
   "outputs": [
    {
     "name": "stdout",
     "output_type": "stream",
     "text": [
      "root\n",
      " |-- SEASON: string (nullable = true)\n",
      " |-- ORIGIN: string (nullable = true)\n",
      " |-- DESTINATION: string (nullable = true)\n",
      " |-- PSGR_COUNT: integer (nullable = true)\n",
      "\n"
     ]
    }
   ],
   "source": [
    "df.printSchema()"
   ]
  },
  {
   "cell_type": "markdown",
   "metadata": {},
   "source": [
    "# GÖREV 3: Veri Analizi\n",
    "- Unique Değişken Kontrolü\n",
    "- Tanımlayıcı İstatistikler \n",
    "- Kalkış noktasına göre yolcu sayısı\n",
    "- Yolcu Sayısının Mevsimlere Göre İncelenmesi"
   ]
  },
  {
   "cell_type": "markdown",
   "metadata": {},
   "source": [
    "## Adım1: Origin değişkenindeki eşsiz sınıf sayısını bulunuz."
   ]
  },
  {
   "cell_type": "code",
   "execution_count": 10,
   "metadata": {},
   "outputs": [
    {
     "data": {
      "text/plain": [
       "4210"
      ]
     },
     "execution_count": 10,
     "metadata": {},
     "output_type": "execute_result"
    }
   ],
   "source": [
    "df.select(\"ORIGIN\").distinct().count()"
   ]
  },
  {
   "cell_type": "markdown",
   "metadata": {},
   "source": [
    "## Adım 2: Mevsimlere göre tanımlayıcı istatistiklerini inceleyiniz."
   ]
  },
  {
   "cell_type": "code",
   "execution_count": 11,
   "metadata": {},
   "outputs": [
    {
     "name": "stdout",
     "output_type": "stream",
     "text": [
      "+------+----------------+-----------------+----------------+\n",
      "|SEASON|TOTAL_PSGR_COUNT|   AVG_PSGR_COUNT|COUNT_OF_FLIGHTS|\n",
      "+------+----------------+-----------------+----------------+\n",
      "|SUMMER|       521002675|567.8806552066541|          917451|\n",
      "|WINTER|       336882094|420.1829420855103|          801751|\n",
      "+------+----------------+-----------------+----------------+\n",
      "\n"
     ]
    }
   ],
   "source": [
    "from pyspark.sql.functions import sum, col, desc, mean, count\n",
    "df.groupBy(\"SEASON\") \\\n",
    "  .agg(sum(\"PSGR_COUNT\").alias('TOTAL_PSGR_COUNT'), \\\n",
    "       mean(\"PSGR_COUNT\").alias(\"AVG_PSGR_COUNT\"), \\\n",
    "       count(\"PSGR_COUNT\").alias(\"COUNT_OF_FLIGHTS\")) \\\n",
    "  .sort(desc(\"TOTAL_PSGR_COUNT\")).show()"
   ]
  },
  {
   "cell_type": "markdown",
   "metadata": {},
   "source": [
    "## Adım 3: Yaz sezonunda en çok yolcunun taşındığı ilk 5 kalkış noktasını gözlemleyiniz. "
   ]
  },
  {
   "cell_type": "code",
   "execution_count": 12,
   "metadata": {},
   "outputs": [
    {
     "data": {
      "text/html": [
       "<div>\n",
       "<style scoped>\n",
       "    .dataframe tbody tr th:only-of-type {\n",
       "        vertical-align: middle;\n",
       "    }\n",
       "\n",
       "    .dataframe tbody tr th {\n",
       "        vertical-align: top;\n",
       "    }\n",
       "\n",
       "    .dataframe thead th {\n",
       "        text-align: right;\n",
       "    }\n",
       "</style>\n",
       "<table border=\"1\" class=\"dataframe\">\n",
       "  <thead>\n",
       "    <tr style=\"text-align: right;\">\n",
       "      <th></th>\n",
       "      <th>SEASON</th>\n",
       "      <th>ORIGIN</th>\n",
       "      <th>DESTINATION</th>\n",
       "      <th>PSGR_COUNT</th>\n",
       "    </tr>\n",
       "  </thead>\n",
       "  <tbody>\n",
       "    <tr>\n",
       "      <th>0</th>\n",
       "      <td>SUMMER</td>\n",
       "      <td>6PE</td>\n",
       "      <td>H8G</td>\n",
       "      <td>980759</td>\n",
       "    </tr>\n",
       "    <tr>\n",
       "      <th>1</th>\n",
       "      <td>SUMMER</td>\n",
       "      <td>H8G</td>\n",
       "      <td>6PE</td>\n",
       "      <td>978968</td>\n",
       "    </tr>\n",
       "    <tr>\n",
       "      <th>2</th>\n",
       "      <td>SUMMER</td>\n",
       "      <td>DEL</td>\n",
       "      <td>4OM</td>\n",
       "      <td>908383</td>\n",
       "    </tr>\n",
       "    <tr>\n",
       "      <th>3</th>\n",
       "      <td>SUMMER</td>\n",
       "      <td>MEL</td>\n",
       "      <td>3YD</td>\n",
       "      <td>907382</td>\n",
       "    </tr>\n",
       "    <tr>\n",
       "      <th>4</th>\n",
       "      <td>SUMMER</td>\n",
       "      <td>3YD</td>\n",
       "      <td>MEL</td>\n",
       "      <td>904641</td>\n",
       "    </tr>\n",
       "  </tbody>\n",
       "</table>\n",
       "</div>"
      ],
      "text/plain": [
       "   SEASON ORIGIN DESTINATION  PSGR_COUNT\n",
       "0  SUMMER    6PE         H8G      980759\n",
       "1  SUMMER    H8G         6PE      978968\n",
       "2  SUMMER    DEL         4OM      908383\n",
       "3  SUMMER    MEL         3YD      907382\n",
       "4  SUMMER    3YD         MEL      904641"
      ]
     },
     "execution_count": 12,
     "metadata": {},
     "output_type": "execute_result"
    }
   ],
   "source": [
    "df.filter(\"SEASON IN ('SUMMER')\").orderBy(F.desc(\"PSGR_COUNT\")).limit(5).toPandas()"
   ]
  },
  {
   "cell_type": "markdown",
   "metadata": {},
   "source": [
    "## Adım 4: Veri setini okuyarak mevsim ve kalkış noktasına göre yolcu sayısını azalan olarak sıralayınız."
   ]
  },
  {
   "cell_type": "code",
   "execution_count": 14,
   "metadata": {},
   "outputs": [],
   "source": [
    "ordered_df_thy = df.groupBy(\"SEASON\",\"ORIGIN\").agg(F.sum(\"PSGR_COUNT\").alias(\"PSGR_COUNT\")) \\\n",
    ".orderBy(F.desc(\"PSGR_COUNT\"))"
   ]
  },
  {
   "cell_type": "code",
   "execution_count": 15,
   "metadata": {},
   "outputs": [
    {
     "data": {
      "text/html": [
       "<div>\n",
       "<style scoped>\n",
       "    .dataframe tbody tr th:only-of-type {\n",
       "        vertical-align: middle;\n",
       "    }\n",
       "\n",
       "    .dataframe tbody tr th {\n",
       "        vertical-align: top;\n",
       "    }\n",
       "\n",
       "    .dataframe thead th {\n",
       "        text-align: right;\n",
       "    }\n",
       "</style>\n",
       "<table border=\"1\" class=\"dataframe\">\n",
       "  <thead>\n",
       "    <tr style=\"text-align: right;\">\n",
       "      <th></th>\n",
       "      <th>SEASON</th>\n",
       "      <th>ORIGIN</th>\n",
       "      <th>PSGR_COUNT</th>\n",
       "    </tr>\n",
       "  </thead>\n",
       "  <tbody>\n",
       "    <tr>\n",
       "      <th>0</th>\n",
       "      <td>SUMMER</td>\n",
       "      <td>IC7</td>\n",
       "      <td>11177363</td>\n",
       "    </tr>\n",
       "    <tr>\n",
       "      <th>1</th>\n",
       "      <td>SUMMER</td>\n",
       "      <td>LHR</td>\n",
       "      <td>9696224</td>\n",
       "    </tr>\n",
       "    <tr>\n",
       "      <th>2</th>\n",
       "      <td>SUMMER</td>\n",
       "      <td>H8G</td>\n",
       "      <td>8432456</td>\n",
       "    </tr>\n",
       "    <tr>\n",
       "      <th>3</th>\n",
       "      <td>WINTER</td>\n",
       "      <td>IC7</td>\n",
       "      <td>7803139</td>\n",
       "    </tr>\n",
       "    <tr>\n",
       "      <th>4</th>\n",
       "      <td>SUMMER</td>\n",
       "      <td>DEL</td>\n",
       "      <td>7705173</td>\n",
       "    </tr>\n",
       "  </tbody>\n",
       "</table>\n",
       "</div>"
      ],
      "text/plain": [
       "   SEASON ORIGIN  PSGR_COUNT\n",
       "0  SUMMER    IC7    11177363\n",
       "1  SUMMER    LHR     9696224\n",
       "2  SUMMER    H8G     8432456\n",
       "3  WINTER    IC7     7803139\n",
       "4  SUMMER    DEL     7705173"
      ]
     },
     "execution_count": 15,
     "metadata": {},
     "output_type": "execute_result"
    }
   ],
   "source": [
    "ordered_df_thy.limit(5).toPandas()"
   ]
  },
  {
   "cell_type": "markdown",
   "metadata": {},
   "source": [
    "# GÖREV 4: Veri Kaynaklarına Yazdırma\n",
    "\n",
    "#### Hive\n",
    "- Elde ettiğiniz veri setini hive veri tabanına orc formatında yazınız.\n",
    "\n",
    "#### Veri Okuma\n",
    "\n",
    "- Hive'a gönderdiğiniz veri setini okuyunuz.\n",
    "\n",
    "#### Postgresql\n",
    "- Elde ettiğiniz veri setini Postgresql'e traindb.public.ordered_df_thy tablosuna yazsın.\n",
    "\n",
    "#### Veri Okuma\n",
    "\n",
    "- Shell üzerinden Postgresql'e gönderdiğiniz veriyi okuyunuz.\n",
    "\n"
   ]
  },
  {
   "cell_type": "markdown",
   "metadata": {},
   "source": [
    "## Adım1: Elde ettiğiniz veri setini hive veri tabanına orc formatında yazınız."
   ]
  },
  {
   "cell_type": "code",
   "execution_count": 16,
   "metadata": {},
   "outputs": [],
   "source": [
    "ordered_df_thy.write.format(\"orc\").mode(\"overwrite\").saveAsTable(\"test1.thy_market_grpby_season_org\")"
   ]
  },
  {
   "cell_type": "markdown",
   "metadata": {},
   "source": [
    "## Adım 2: Hive'a gönderdiğiniz veri setini okuyunuz."
   ]
  },
  {
   "cell_type": "code",
   "execution_count": 17,
   "metadata": {},
   "outputs": [
    {
     "data": {
      "text/html": [
       "<div>\n",
       "<style scoped>\n",
       "    .dataframe tbody tr th:only-of-type {\n",
       "        vertical-align: middle;\n",
       "    }\n",
       "\n",
       "    .dataframe tbody tr th {\n",
       "        vertical-align: top;\n",
       "    }\n",
       "\n",
       "    .dataframe thead th {\n",
       "        text-align: right;\n",
       "    }\n",
       "</style>\n",
       "<table border=\"1\" class=\"dataframe\">\n",
       "  <thead>\n",
       "    <tr style=\"text-align: right;\">\n",
       "      <th></th>\n",
       "      <th>SEASON</th>\n",
       "      <th>ORIGIN</th>\n",
       "      <th>PSGR_COUNT</th>\n",
       "    </tr>\n",
       "  </thead>\n",
       "  <tbody>\n",
       "    <tr>\n",
       "      <th>0</th>\n",
       "      <td>WINTER</td>\n",
       "      <td>3VI</td>\n",
       "      <td>1</td>\n",
       "    </tr>\n",
       "    <tr>\n",
       "      <th>1</th>\n",
       "      <td>WINTER</td>\n",
       "      <td>4YD</td>\n",
       "      <td>1</td>\n",
       "    </tr>\n",
       "    <tr>\n",
       "      <th>2</th>\n",
       "      <td>WINTER</td>\n",
       "      <td>34R</td>\n",
       "      <td>1</td>\n",
       "    </tr>\n",
       "    <tr>\n",
       "      <th>3</th>\n",
       "      <td>SUMMER</td>\n",
       "      <td>47W</td>\n",
       "      <td>1</td>\n",
       "    </tr>\n",
       "    <tr>\n",
       "      <th>4</th>\n",
       "      <td>SUMMER</td>\n",
       "      <td>GO3</td>\n",
       "      <td>1</td>\n",
       "    </tr>\n",
       "  </tbody>\n",
       "</table>\n",
       "</div>"
      ],
      "text/plain": [
       "   SEASON ORIGIN  PSGR_COUNT\n",
       "0  WINTER    3VI           1\n",
       "1  WINTER    4YD           1\n",
       "2  WINTER    34R           1\n",
       "3  SUMMER    47W           1\n",
       "4  SUMMER    GO3           1"
      ]
     },
     "execution_count": 17,
     "metadata": {},
     "output_type": "execute_result"
    }
   ],
   "source": [
    "spark.sql(\"select * from test1.thy_market_grpby_season_org;\").limit(5).toPandas()"
   ]
  },
  {
   "cell_type": "markdown",
   "metadata": {},
   "source": [
    "## Adım 3: Elde ettiğiniz veri setini Postgresql'e traindb.public.ordered_df_thy tablosuna yazsın."
   ]
  },
  {
   "cell_type": "code",
   "execution_count": 19,
   "metadata": {},
   "outputs": [],
   "source": [
    "jdbcUrl = \"jdbc:postgresql://localhost/traindb?user=train&password=Ankara06\""
   ]
  },
  {
   "cell_type": "code",
   "execution_count": 20,
   "metadata": {},
   "outputs": [],
   "source": [
    "ordered_df_thy.write \\\n",
    ".jdbc(url=jdbcUrl,\n",
    "              table=\"ordered_df_thy\", \n",
    "              mode=\"overwrite\", \n",
    "              properties={\"driver\": 'org.postgresql.Driver'})"
   ]
  },
  {
   "cell_type": "markdown",
   "metadata": {},
   "source": [
    "## Adım 4: Shell üzerinden Postgresql'e gönderdiğiniz veriyi okuyunuz."
   ]
  },
  {
   "cell_type": "code",
   "execution_count": null,
   "metadata": {},
   "outputs": [],
   "source": []
  }
 ],
 "metadata": {
  "kernelspec": {
   "display_name": "Python 3 (ipykernel)",
   "language": "python",
   "name": "python3"
  },
  "language_info": {
   "codemirror_mode": {
    "name": "ipython",
    "version": 3
   },
   "file_extension": ".py",
   "mimetype": "text/x-python",
   "name": "python",
   "nbconvert_exporter": "python",
   "pygments_lexer": "ipython3",
   "version": "3.9.12"
  }
 },
 "nbformat": 4,
 "nbformat_minor": 4
}
